{
  "nbformat": 4,
  "nbformat_minor": 0,
  "metadata": {
    "colab": {
      "provenance": [],
      "toc_visible": true,
      "authorship_tag": "ABX9TyOSt9lS5g8OBUS9MKBV8EQF",
      "include_colab_link": true
    },
    "kernelspec": {
      "name": "python3",
      "display_name": "Python 3"
    },
    "language_info": {
      "name": "python"
    }
  },
  "cells": [
    {
      "cell_type": "markdown",
      "metadata": {
        "id": "view-in-github",
        "colab_type": "text"
      },
      "source": [
        "<a href=\"https://colab.research.google.com/github/EvairSantos/pipeline_etl/blob/main/etl_simples.ipynb\" target=\"_parent\"><img src=\"https://colab.research.google.com/assets/colab-badge.svg\" alt=\"Open In Colab\"/></a>"
      ]
    },
    {
      "cell_type": "markdown",
      "source": [
        "# Python Script para Obter Informações do Bitcoin\n",
        "# ----------------------------------------------\n",
        "\n",
        "Este script em Python utiliza a CoinGecko API para acessar informações em tempo real sobre o Bitcoin, uma das principais criptomoedas do mundo. Com esta ferramenta, você poderá obter o preço atual do Bitcoin em dólares americanos (USD) e explorar ainda mais informações de mercado.\n",
        "\n",
        "Instruções de Uso:\n",
        "- Certifique-se de ter a biblioteca 'requests' instalada em seu ambiente Python.\n",
        "- Execute o código para obter o preço atual do Bitcoin em USD.\n",
        "- Personalize a consulta e os parâmetros da API para obter informações adicionais, como histórico de preços, estatísticas de mercado e muito mais.\n",
        "\n",
        "Este script é um ponto de partida para explorar as possibilidades de análise de dados e monitoramento de criptomoedas com Python. Lembre-se de respeitar as políticas de uso da API e as limitações de solicitações ao utilizá-la.\n"
      ],
      "metadata": {
        "id": "X3a4hn-aPmxc"
      }
    },
    {
      "cell_type": "code",
      "execution_count": null,
      "metadata": {
        "id": "QseCCwvcPQGT"
      },
      "outputs": [],
      "source": [
        "import requests\n",
        "\n",
        "# URL da API CoinGecko para o Bitcoin\n",
        "url = \"https://api.coingecko.com/api/v3/simple/price\"\n",
        "\n",
        "# Parâmetros da consulta\n",
        "params = {\n",
        "    \"ids\": \"bitcoin\",\n",
        "    \"vs_currencies\": \"usd\"\n",
        "}\n",
        "\n",
        "# Realiza a consulta\n",
        "response = requests.get(url, params=params)\n",
        "\n",
        "if response.status_code == 200:\n",
        "    bitcoin_data = response.json()\n",
        "    price_in_usd = bitcoin_data['bitcoin']['usd']\n",
        "    print(f\"Preço atual do Bitcoin (em USD): {price_in_usd}\")\n",
        "else:\n",
        "    print(\"Falha ao obter os dados.\")\n"
      ]
    },
    {
      "cell_type": "markdown",
      "source": [
        "# Análise de Tendência do Bitcoin\n",
        "# ------------------------------\n",
        "\n",
        "Neste trecho de código, estamos realizando uma análise simples da tendência do preço do Bitcoin (BTC) em relação ao dólar americano (USD). Após a extração dos dados de preço atual do Bitcoin, este código compara o preço atual com um valor anterior que você deve coletar durante a fase de extração. Com base nessa comparação, determinamos se a tendência é de alta (quando o preço atual é maior do que o anterior) ou de baixa (quando o preço atual é menor).\n",
        "\n",
        "Lembre-se de que esta é uma análise inicial e simplificada. Para análises mais robustas e precisas, você pode incorporar uma variedade de fatores adicionais, como volume de negociação, indicadores técnicos e notícias do mercado."
      ],
      "metadata": {
        "id": "hkMkGQKQPXG3"
      }
    },
    {
      "cell_type": "code",
      "source": [
        "import requests\n",
        "\n",
        "# URL da API CoinGecko para o Bitcoin\n",
        "url = \"https://api.coingecko.com/api/v3/simple/price\"\n",
        "\n",
        "# Parâmetros da consulta\n",
        "params = {\n",
        "    \"ids\": \"bitcoin\",\n",
        "    \"vs_currencies\": \"usd\"\n",
        "}\n",
        "\n",
        "# Realiza a consulta\n",
        "response = requests.get(url, params=params)\n",
        "\n",
        "if response.status_code == 200:\n",
        "    bitcoin_data = response.json()\n",
        "    price_in_usd = bitcoin_data['bitcoin']['usd']\n",
        "    print(f\"Preço atual do Bitcoin (em USD): {price_in_usd}\")\n",
        "\n",
        "    # Vamos supor que estamos fazendo uma análise simples da tendência.\n",
        "    # Se o preço do Bitcoin for maior do que o valor anterior, consideramos uma tendência de alta.\n",
        "    # Caso contrário, consideramos uma tendência de baixa.\n",
        "\n",
        "    # Aqui você pode comparar o preço atual com um valor anterior\n",
        "    # que você coletou durante a extração.\n",
        "\n",
        "    valor_anterior = 80000  # Substitua pelo valor anterior da extração.\n",
        "\n",
        "    if price_in_usd > valor_anterior:\n",
        "        print(\"Tendência: Alta\")\n",
        "    else:\n",
        "        print(\"Tendência: Baixa\")\n",
        "\n",
        "else:\n",
        "    print(\"Falha ao obter os dados.\")\n"
      ],
      "metadata": {
        "id": "Oj9qkNlRPkWA"
      },
      "execution_count": null,
      "outputs": []
    }
  ]
}